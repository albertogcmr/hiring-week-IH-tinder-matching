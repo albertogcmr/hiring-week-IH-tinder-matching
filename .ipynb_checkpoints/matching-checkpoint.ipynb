{
 "cells": [
  {
   "cell_type": "code",
   "execution_count": 1,
   "metadata": {},
   "outputs": [],
   "source": [
    "import numpy as np\n",
    "import pandas as pd\n"
   ]
  },
  {
   "cell_type": "code",
   "execution_count": 2,
   "metadata": {},
   "outputs": [],
   "source": [
    "# !jupyter kernelspec list\n",
    "# import sys\n",
    "# sys.path"
   ]
  },
  {
   "cell_type": "code",
   "execution_count": 3,
   "metadata": {},
   "outputs": [
    {
     "ename": "TypeError",
     "evalue": "'float' object cannot be interpreted as an integer",
     "output_type": "error",
     "traceback": [
      "\u001b[0;31m---------------------------------------------------------------------------\u001b[0m",
      "\u001b[0;31mTypeError\u001b[0m                                 Traceback (most recent call last)",
      "\u001b[0;32m<ipython-input-3-d3fd85b1f612>\u001b[0m in \u001b[0;36m<module>\u001b[0;34m\u001b[0m\n\u001b[1;32m     20\u001b[0m    \u001b[0mequipos\u001b[0m \u001b[0;34m=\u001b[0m \u001b[0;34m[\u001b[0m\u001b[0;34m]\u001b[0m\u001b[0;34m\u001b[0m\u001b[0;34m\u001b[0m\u001b[0m\n\u001b[1;32m     21\u001b[0m    \u001b[0mlist_equipos\u001b[0m \u001b[0;34m=\u001b[0m \u001b[0;34m{\u001b[0m\u001b[0;34m}\u001b[0m\u001b[0;34m\u001b[0m\u001b[0;34m\u001b[0m\u001b[0m\n\u001b[0;32m---> 22\u001b[0;31m    \u001b[0;32mfor\u001b[0m \u001b[0mindiceP\u001b[0m \u001b[0;32min\u001b[0m \u001b[0mrange\u001b[0m\u001b[0;34m(\u001b[0m\u001b[0;36m0\u001b[0m\u001b[0;34m,\u001b[0m\u001b[0mtotalP\u001b[0m\u001b[0;34m)\u001b[0m\u001b[0;34m:\u001b[0m\u001b[0;34m\u001b[0m\u001b[0;34m\u001b[0m\u001b[0m\n\u001b[0m\u001b[1;32m     23\u001b[0m       \u001b[0;32mif\u001b[0m \u001b[0mindex_clubes\u001b[0m \u001b[0;34m>\u001b[0m \u001b[0mauxT\u001b[0m\u001b[0;34m-\u001b[0m\u001b[0;36m2\u001b[0m\u001b[0;34m:\u001b[0m\u001b[0;34m\u001b[0m\u001b[0;34m\u001b[0m\u001b[0m\n\u001b[1;32m     24\u001b[0m          \u001b[0mindex_clubes\u001b[0m \u001b[0;34m=\u001b[0m \u001b[0;36m0\u001b[0m\u001b[0;34m\u001b[0m\u001b[0;34m\u001b[0m\u001b[0m\n",
      "\u001b[0;31mTypeError\u001b[0m: 'float' object cannot be interpreted as an integer"
     ]
    }
   ],
   "source": [
    "# https://es.wikipedia.org/wiki/Sistema_de_todos_contra_todos\n",
    "\n",
    "\n",
    "tope = 8\n",
    "\n",
    "# modificar el numero de clubes\n",
    "clubes = ['a','b','c','d','e','f']\n",
    "index_clubes = 0\n",
    "for i in range(0,tope):\n",
    "    clubes.append(\"Club_\"+str(i+1))\n",
    "\n",
    "auxT = len(clubes)\n",
    "impar= True if auxT%2 != 0 else False\n",
    "\n",
    "if impar:\n",
    "    auxT += 1\n",
    "\n",
    "totalP = auxT/2 # total de partidos de una jornada\n",
    "jornada = []\n",
    "indiceInverso = auxT-2\n",
    "\n",
    "for i in range(1,auxT):\n",
    "    equipos = []\n",
    "    list_equipos = {}\n",
    "    for indiceP in range(0,totalP):\n",
    "      if index_clubes > auxT-2:\n",
    "         index_clubes = 0\n",
    "\n",
    "      if indiceInverso < 0:\n",
    "         indiceInverso = auxT-2\n",
    "\n",
    "      if indiceP == 0: # seria el partido inicial de cada fecha\n",
    "         if impar:\n",
    "            equipos.append(clubes[index_clubes])\n",
    "         else:\n",
    "            if (i+1)%2 == 0:\n",
    "                partido = [clubes[index_clubes], clubes[auxT-1]]\n",
    "            else:\n",
    "                partido = [clubes[auxT-1], clubes[index_clubes]]\n",
    "            equipos.append(\" vs \".join(partido))\n",
    "      else:\n",
    "            partido = [clubes[index_clubes], clubes[indiceInverso]]\n",
    "            equipos.append(\" vs \".join(partido))\n",
    "            indiceInverso -= 1\n",
    "      index_clubes += 1\n",
    "\n",
    "   list_equipos = {\n",
    "          'jornada': \"Jornada Nro.: \" + str(i),\n",
    "          'equipos': equipos\n",
    "   }\n",
    "   jornada.append(list_equipos)\n",
    "\n",
    "print(jornada)"
   ]
  },
  {
   "cell_type": "code",
   "execution_count": null,
   "metadata": {},
   "outputs": [],
   "source": []
  }
 ],
 "metadata": {
  "kernelspec": {
   "display_name": "Python 3",
   "language": "python",
   "name": "python3"
  },
  "language_info": {
   "codemirror_mode": {
    "name": "ipython",
    "version": 3
   },
   "file_extension": ".py",
   "mimetype": "text/x-python",
   "name": "python",
   "nbconvert_exporter": "python",
   "pygments_lexer": "ipython3",
   "version": "3.6.7"
  }
 },
 "nbformat": 4,
 "nbformat_minor": 2
}
