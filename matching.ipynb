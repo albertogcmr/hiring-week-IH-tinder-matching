{
 "cells": [
  {
   "cell_type": "code",
   "execution_count": 1,
   "metadata": {},
   "outputs": [
    {
     "name": "stderr",
     "output_type": "stream",
     "text": [
      "/home/alberto/.local/lib/python3.6/site-packages/sklearn/preprocessing/data.py:323: DataConversionWarning: Data with input dtype int64 were all converted to float64 by MinMaxScaler.\n",
      "  return self.partial_fit(X, y)\n"
     ]
    }
   ],
   "source": [
    "# Imports\n",
    "\n",
    "import numpy as np\n",
    "import pandas as pd\n",
    "\n",
    "\n",
    "from func_args import get_args\n",
    "from func_aquisition import adquisition_survey\n",
    "from func_normalize import *\n",
    "from func_matching import calculate_match\n",
    "from func_rondas import get_rondas, shuffle_rondas\n",
    "from func_outputs import outputs, create_matrix_matching\n",
    "\n",
    "\n",
    "\n",
    "\n",
    "def main(): \n",
    "    # Captura de argumentos. \n",
    "    bootcamp, companies_filename, students_filename, n_rondas = get_args()\n",
    "    \n",
    "    # DFs limpios\n",
    "    df_companies, df_students = adquisition_survey(bootcamp, companies_filename, students_filename)\n",
    "    \n",
    "    # Normalize\n",
    "    students, companies = normalize_2dfs(df_students, df_companies)\n",
    "\n",
    "    # TO DO: crear la tabla matching\n",
    "    lista_matching = calculate_match(students, companies, bootcamp)\n",
    "    \n",
    "    # Función principal para generar la lista de rondas ordenadas\n",
    "    lista_interviews = get_rondas(lista_matching, n_rondas, students.index, companies.index)\n",
    "    \n",
    "    # barajamos para que todos estén igualmente motivados en cada entrevista\n",
    "    lista_interviews = shuffle_rondas(lista_interviews)\n",
    "    \n",
    "    # obtenemos el excel de output deseado\n",
    "    outputs(lista_interviews, lista_matching)\n",
    "\n",
    "\n",
    "if __name__== '__main__':\n",
    "    main()\n",
    "\n"
   ]
  },
  {
   "cell_type": "code",
   "execution_count": null,
   "metadata": {},
   "outputs": [],
   "source": []
  }
 ],
 "metadata": {
  "kernelspec": {
   "display_name": "Python 3",
   "language": "python",
   "name": "python3"
  },
  "language_info": {
   "codemirror_mode": {
    "name": "ipython",
    "version": 3
   },
   "file_extension": ".py",
   "mimetype": "text/x-python",
   "name": "python",
   "nbconvert_exporter": "python",
   "pygments_lexer": "ipython3",
   "version": "3.6.7"
  }
 },
 "nbformat": 4,
 "nbformat_minor": 2
}
