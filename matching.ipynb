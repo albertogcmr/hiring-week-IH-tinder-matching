{
 "cells": [
  {
   "cell_type": "markdown",
   "metadata": {},
   "source": [
    "# Tinder para empresas\n",
    "\n",
    "## Imports"
   ]
  },
  {
   "cell_type": "code",
   "execution_count": 1,
   "metadata": {},
   "outputs": [],
   "source": [
    "# Imports\n",
    "\n",
    "import numpy as np\n",
    "import pandas as pd\n",
    "\n",
    "from random import shuffle\n",
    "\n",
    "from func_matching import calculate_match\n",
    "from func_args import get_args\n",
    "from func_grafos import create_graph, get_best_match\n",
    "from func_aquisition import adquisition_survey\n",
    "from func_outputs import outputs\n",
    "from func_normalize import *"
   ]
  },
  {
   "cell_type": "code",
   "execution_count": 2,
   "metadata": {},
   "outputs": [],
   "source": [
    "\n",
    "def most_common(lst):\n",
    "    return max(set(lst), key=lst.count)\n",
    "\n",
    "def get_rondas(G, n_rondas, student_queue, companies): \n",
    "    res = []\n",
    "    mesas = len(companies)\n",
    "    for r in range(n_rondas): \n",
    "        used = []\n",
    "        \n",
    "        for interview in range(mesas): \n",
    "            # debería ser el studiante que más sale en student_queue\n",
    "            student = most_common(student_queue) \n",
    "            \n",
    "            m = get_best_match(G, student, used)\n",
    "            if m == None: \n",
    "                break\n",
    "            node1, node2, w = m\n",
    "            G.remove_edge(node1, node2)\n",
    "            used.extend([node1, node2]) # añadimos empresa y compañia para que no vuelvan a aparecer en esta ronda\n",
    "            \n",
    "            if node1 not in companies: # si el nodo1 no es nombre de compañía, debemos intercambiar\n",
    "                node2, node1 = node1, node2\n",
    "            res.append({'ronda': r, 'company': node1, 'student': node2, 'weight': w})\n",
    "            student_queue.remove(node2)\n",
    "    return res    \n",
    "\n",
    "def generate_student_queue(students_list, n_rondas): \n",
    "    shuffle(students_list)\n",
    "    return students_list * n_rondas\n"
   ]
  },
  {
   "cell_type": "code",
   "execution_count": 4,
   "metadata": {},
   "outputs": [],
   "source": [
    "def main(): \n",
    "    # Captura de argumentos. \n",
    "    bootcamp, companies_filename, students_filename, n_rondas = get_args()\n",
    "    \n",
    "    # DFs limpios\n",
    "    companies, students = adquisition_survey(bootcamp, companies_filename, students_filename)\n",
    "    \n",
    "    # Normalize\n",
    "    students, companies = normalize_2dfs(students, companies)\n",
    "    \n",
    "    # TO DO: crear la tabla matching\n",
    "    matching = calculate_match(students, companies, bootcamp)\n",
    "\n",
    "    G = create_graph(matching)\n",
    "    \n",
    "    students_list_queue = generate_student_queue(list(matching.index), n_rondas)\n",
    "    # display(students_list_queue)\n",
    "        \n",
    "    # vamos a recorrer la lista para ir emparejando\n",
    "    rondas = get_rondas(G, n_rondas, students_list_queue, list(matching.columns))\n",
    "    \n",
    "    outputs(rondas)\n",
    "\n",
    "\n",
    "if __name__== '__main__':\n",
    "    main()"
   ]
  },
  {
   "cell_type": "code",
   "execution_count": null,
   "metadata": {},
   "outputs": [],
   "source": []
  }
 ],
 "metadata": {
  "kernelspec": {
   "display_name": "Python 3",
   "language": "python",
   "name": "python3"
  },
  "language_info": {
   "codemirror_mode": {
    "name": "ipython",
    "version": 3
   },
   "file_extension": ".py",
   "mimetype": "text/x-python",
   "name": "python",
   "nbconvert_exporter": "python",
   "pygments_lexer": "ipython3",
   "version": "3.6.7"
  }
 },
 "nbformat": 4,
 "nbformat_minor": 2
}
